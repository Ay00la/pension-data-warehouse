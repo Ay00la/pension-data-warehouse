{
 "cells": [
  {
   "cell_type": "code",
   "execution_count": 3,
   "metadata": {},
   "outputs": [],
   "source": [
    "import csv\n",
    "import configparser\n",
    "import pyodbc\n",
    "import pandas as pd"
   ]
  },
  {
   "cell_type": "markdown",
   "metadata": {},
   "source": [
    "### Read the Tables and Columns - SQL Server spreadsheet\n",
    "\n",
    "Iterates through the Tables and Columns-SQL Server spreadsheet and create a dictionary whose keys are the table names and values are tuples of column, datatype and alter sql.\n",
    "i.e\n",
    "* **Key:** Table Name\n",
    "* **Value:** [(Column Name, DATA_TYPE, Alter SQL)]"
   ]
  },
  {
   "cell_type": "code",
   "execution_count": 5,
   "metadata": {},
   "outputs": [],
   "source": [
    "# Read csv file\n",
    "with open('Tables and Columns - SQL Server.csv', 'r') as f:\n",
    "    csvreader = csv.reader(f, delimiter=',')\n",
    "    next(csvreader) #Skip first row\n",
    "    \n",
    "    dict = {}\n",
    "    \n",
    "    # Iterate through csv file and append keys and values into the dictionary\n",
    "    for line in csvreader:\n",
    "        key = line[1]\n",
    "        value1 = line[2]\n",
    "        value2 = line[5]\n",
    "        value3 = line[6]\n",
    "        \n",
    "        if key in dict:\n",
    "            dict[key].append((value1, value2, value3))\n",
    "        else:\n",
    "            dict[key]= [(value1, value2, value3)]\n",
    "            \n",
    "#print(dict)"
   ]
  },
  {
   "cell_type": "markdown",
   "metadata": {},
   "source": [
    "### Creates a list of Create table queries for all tables"
   ]
  },
  {
   "cell_type": "code",
   "execution_count": 11,
   "metadata": {},
   "outputs": [],
   "source": [
    "create_table_queries = []\n",
    "\n",
    "# Iterate through the dictionary\n",
    "for key, value in dict.items():\n",
    "    query = \"\"\"Create table if not exists [{}](\"\"\".format(key.replace(\".\", \"].[\"))\n",
    "    for column_name, data_type, alter_sql in value:\n",
    "        query2 =\"\"\"{}  {}, \"\"\".format(column_name, data_type)\n",
    "        query += query2\n",
    "    query += \")\"\n",
    "    query = query.replace(\", )\", \");\")\n",
    "    #print(query)\n",
    "    create_table_queries.append(query)\n",
    "    \n",
    "#print(create_table_queries)"
   ]
  },
  {
   "cell_type": "markdown",
   "metadata": {},
   "source": [
    "### Creates a list of Alter SQL queries for all tables"
   ]
  },
  {
   "cell_type": "code",
   "execution_count": 13,
   "metadata": {},
   "outputs": [],
   "source": [
    "alter_table_queries = []\n",
    "\n",
    "# Iterate through the dictionary\n",
    "for key, value in dict.items():\n",
    "    for column_name, data_type, alter_sql in value:\n",
    "        query =\"\"\"{}\"\"\".format(alter_sql)\n",
    "        alter_table_queries.append(query)\n",
    "    \n",
    "#print(alter_table_queries)"
   ]
  },
  {
   "cell_type": "markdown",
   "metadata": {},
   "source": [
    "### Connect to database"
   ]
  },
  {
   "cell_type": "code",
   "execution_count": 12,
   "metadata": {},
   "outputs": [
    {
     "name": "stdout",
     "output_type": "stream",
     "text": [
      "('08001', '[08001] [Microsoft][ODBC Driver 17 for SQL Server]Named Pipes Provider: Could not open a connection to SQL Server [53].  (53) (SQLDriverConnect); [08001] [Microsoft][ODBC Driver 17 for SQL Server]Login timeout expired (0); [08001] [Microsoft][ODBC Driver 17 for SQL Server]A network-related or instance-specific error has occurred while establishing a connection to SQL Server. Server is not found or not accessible. Check if instance name is correct and if SQL Server is configured to allow remote connections. For more information see SQL Server Books Online. (53)')\n"
     ]
    }
   ],
   "source": [
    "# Read 'db.cfg' files\n",
    "config = configparser.ConfigParser()\n",
    "config.read('db.cfg')\n",
    "\n",
    "server = config.get(\"PARAM\", \"server\")\n",
    "database = config.get(\"PARAM\", \"database\")\n",
    "username = config.get(\"PARAM\", \"username\")\n",
    "password = config.get(\"PARAM\", \"password\")\n",
    "\n",
    "try:\n",
    "    cnxn = pyodbc.connect('DRIVER={ODBC Driver 17 for SQL Server};SERVER='+server+';DATABASE='+database+';UID='+username+';PWD='+ password)\n",
    "    cursor = cnxn.cursor()\n",
    "    cnxn.set_session(autocommit=True)\n",
    "except Exception as e:\n",
    "    print(e)\n",
    "\n",
    "# Some other example server values are\n",
    "# server = 'localhost\\sqlexpress' # for a named instance\n",
    "# server = 'myserver,port' # to specify an alternate port"
   ]
  },
  {
   "cell_type": "markdown",
   "metadata": {},
   "source": [
    "### Execute all create table queries"
   ]
  },
  {
   "cell_type": "code",
   "execution_count": 13,
   "metadata": {},
   "outputs": [
    {
     "name": "stdout",
     "output_type": "stream",
     "text": [
      "name 'cursor' is not defined\n",
      "name 'cursor' is not defined\n",
      "name 'cursor' is not defined\n",
      "name 'cursor' is not defined\n",
      "name 'cursor' is not defined\n",
      "name 'cursor' is not defined\n"
     ]
    }
   ],
   "source": [
    "for query in create_table_queries:\n",
    "    #print(query)\n",
    "    try:\n",
    "        cursor.execute(query)\n",
    "        cnxn.commit()\n",
    "    except Exception as e:\n",
    "        print(e)"
   ]
  },
  {
   "cell_type": "markdown",
   "metadata": {},
   "source": [
    "### Execute all alter table queries"
   ]
  },
  {
   "cell_type": "code",
   "execution_count": null,
   "metadata": {},
   "outputs": [],
   "source": [
    "for query in alter_table_queries:\n",
    "    #print(query)\n",
    "    try:\n",
    "        cursor.execute(query)\n",
    "        cursor.commit()\n",
    "    except Exception as e:\n",
    "        print(e)"
   ]
  },
  {
   "cell_type": "markdown",
   "metadata": {},
   "source": [
    "### SQL queries to create tables for pension database"
   ]
  },
  {
   "cell_type": "code",
   "execution_count": null,
   "metadata": {},
   "outputs": [],
   "source": [
    "DCPlanData_table = \"\"\"CREATE TABLE IF NOT EXISTS [pension].[DCPlanData](\n",
    "actives                 nvarchar,\n",
    "assets                  nvarchar,\n",
    "cashbalance             nvarchar,\n",
    "conts_ee                nvarchar,\n",
    "conts_er                nvarchar,\n",
    "coveredpayroll          nvarchar,\n",
    "dcplanid                nvarchar,\n",
    "ee_contrate_mandatory   nvarchar,\n",
    "ee_contrate_max         nvarchar,\n",
    "ee_contrate_verbatim    nvarchar,\n",
    "eligible_eegroups       nvarchar,\n",
    "eq_avg                  nvarchar,\n",
    "er_contrate_fixedrate   nvarchar,\n",
    "er_contrate_matchrate   nvarchar,\n",
    "er_contrate_verbatim    nvarchar,\n",
    "fy                      nvarchar,\n",
    "hybrid                  nvarchar,\n",
    "inactives               nvarchar,\n",
    "investmentoptions       nvarchar,\n",
    "mandatory_default       nvarchar,\n",
    "members                 nvarchar,\n",
    "planname                nvarchar,\n",
    "planname_db             nvarchar,\n",
    "ppd_id                  nvarchar,\n",
    "primary                 nvarchar,\n",
    "state                   nvarchar,\n",
    "year_est                nvarchar\n",
    ")\"\"\"\n",
    "\n",
    "ActuarialCosts_table = \"\"\"CREATE TABLE IF NOT EXISTS [pension].[ActuarialCosts](\n",
    "ActValDate_ActuarialCosts  nvarchar,\n",
    "ContributionFY             nvarchar,\n",
    "EEGroupID                  nvarchar,\n",
    "fy                         nvarchar,\n",
    "NormCostAmount_EE          nvarchar,\n",
    "NormCostAmount_ER          nvarchar,\n",
    "NormCostAmount_tot         nvarchar,\n",
    "NormCostRate_EE            nvarchar,\n",
    "NormCostRate_EE_est        nvarchar,\n",
    "NormCostRate_ER            nvarchar,\n",
    "NormCostRate_ER_est        nvarchar,\n",
    "NormCostRate_tot           nvarchar,\n",
    "NormCostRate_tot_est       nvarchar,\n",
    "notes_ActCosts             nvarchar,\n",
    "PlanName                   nvarchar,\n",
    "ppd_id                     nvarchar,\n",
    "ProjectedPayroll           nvarchar,\n",
    "ReqContAmount_ER           nvarchar,\n",
    "ReqContAmount_tot          nvarchar,\n",
    "ReqContRate_ER             nvarchar,\n",
    "ReqContRate_ER_est         nvarchar,\n",
    "ReqContRate_tot            nvarchar,\n",
    "source_ActCosts            nvarchar,\n",
    "TierID                     nvarchar,\n",
    "UAALRate                   nvarchar\n",
    ")\"\"\"\n",
    "\n",
    "# List of create table queries\n",
    "create_table_queries2 = [DCPlanData_table, ActuarialCosts_table]"
   ]
  },
  {
   "cell_type": "markdown",
   "metadata": {},
   "source": [
    "### Execute all create table queries"
   ]
  },
  {
   "cell_type": "code",
   "execution_count": null,
   "metadata": {},
   "outputs": [],
   "source": [
    "for query in create_table_queries2:\n",
    "    #print(query)\n",
    "    try:\n",
    "        cursor.execute(query)\n",
    "        cursor.commit()\n",
    "    except Exception as e:\n",
    "        print(e)"
   ]
  },
  {
   "cell_type": "markdown",
   "metadata": {},
   "source": [
    "### SQL queries to drop tables for pension database"
   ]
  },
  {
   "cell_type": "code",
   "execution_count": null,
   "metadata": {},
   "outputs": [],
   "source": [
    "DCPlanData_table_drop = \"\"\"DROP TABLE IF EXISTS [pension].[DCPlanData]\"\"\"\n",
    "ActuarialCosts_table_drop = \"\"\"DROP TABLE IF EXISTS [pension].[ActuarialCosts]\"\"\"\n",
    "RetirementSystemBasics_table_drop = \"\"\"DROP TABLE IF EXISTS [pension].[RetirementSystemBasics]\"\"\"\n",
    "PensionTopStocksTopBonds_table_drop = \"\"\"DROP TABLE IF EXISTS [pension].[PensionTopStocksTopBonds]\"\"\"\n",
    "PensionInvestmentFees_table_drop = \"\"\"DROP TABLE IF EXISTS [pension].[PensionInvestmentFees]\"\"\"\n",
    "PensionInterestRateRisk_table_drop = \"\"\"DROP TABLE IF EXISTS [pension].[PensionInterestRateRisk]\"\"\"\n",
    "PensionCreditRating_table_drop = \"\"\"DROP TABLE IF EXISTS [pension].[PensionCreditRating]\"\"\"\n",
    "PPDDataLatest_table_drop = \"\"\"DROP TABLE IF EXISTS [pension].[PPDDataLatest]\"\"\"\n",
    "PFPlan_PPDSupplement_table_drop = \"\"\"DROP TABLE IF EXISTS [pension].[PFPlan_PPDSupplement]\"\"\"\n",
    "RetirementSystemData_table_drop = \"\"\"DROP TABLE IF EXISTS [pension].[RetirementSystemData]\"\"\"\n",
    "PensionInvestmentPerformanceDetailed_table_drop = \"\"\"DROP TABLE IF EXISTS [pension].[PensionInvestmentPerformanceDetailed]\"\"\"\n",
    "StateLocalDisability_PPD_table_drop = \"\"\"DROP TABLE IF EXISTS [pension].[StateLocalDisability_PPD]\"\"\"\n",
    "\n",
    "# List of drop table queries\n",
    "drop_table_queries = [DCPlanData_table_drop, ActuarialCosts_table_drop, RetirementSystemBasics_table_drop, PensionTopStocksTopBonds_table_drop, PensionInvestmentFees_table_drop, PensionInterestRateRisk_table_drop, PensionCreditRating_table_drop, PPDDataLatest_table_drop, PFPlan_PPDSupplement_table_drop, RetirementSystemData, PensionInvestmentPerformanceDetailed, StateLocalDisability_PPD]"
   ]
  },
  {
   "cell_type": "markdown",
   "metadata": {},
   "source": [
    "### Execute all drop table queries"
   ]
  },
  {
   "cell_type": "code",
   "execution_count": null,
   "metadata": {},
   "outputs": [],
   "source": [
    "for query in drop_table_queries:\n",
    "    #print(query)\n",
    "    try:\n",
    "        cursor.execute(query)\n",
    "        cursor.commit()\n",
    "    except Exception as e:\n",
    "        print(e)"
   ]
  }
 ],
 "metadata": {
  "kernelspec": {
   "display_name": "Python 3",
   "language": "python",
   "name": "python3"
  },
  "language_info": {
   "codemirror_mode": {
    "name": "ipython",
    "version": 3
   },
   "file_extension": ".py",
   "mimetype": "text/x-python",
   "name": "python",
   "nbconvert_exporter": "python",
   "pygments_lexer": "ipython3",
   "version": "3.8.3"
  }
 },
 "nbformat": 4,
 "nbformat_minor": 4
}
